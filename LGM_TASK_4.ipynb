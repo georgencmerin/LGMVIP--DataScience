{
  "nbformat": 4,
  "nbformat_minor": 0,
  "metadata": {
    "colab": {
      "name": "LGM_TASK_4.ipynb",
      "provenance": []
    },
    "kernelspec": {
      "name": "python3",
      "display_name": "Python 3"
    },
    "language_info": {
      "name": "python"
    }
  },
  "cells": [
    {
      "cell_type": "markdown",
      "metadata": {
        "id": "grZOeIsJEWJR"
      },
      "source": [
        "# Music Recommendation\n",
        "## LetsGrowMore Intership\n",
        "#### Merin George\n"
      ]
    },
    {
      "cell_type": "code",
      "metadata": {
        "id": "C33CIm8hEYWv"
      },
      "source": [
        "# Load Python libraries\n",
        "import numpy as np\n",
        "import pandas as pd\n",
        "import seaborn as sns\n",
        "import matplotlib.pyplot as plt\n",
        "import matplotlib as mpl\n",
        "from sklearn.model_selection import cross_validate\n",
        "from sklearn.model_selection import GridSearchCV\n",
        "from sklearn.model_selection import train_test_split\n",
        "from sklearn import ensemble, metrics\n",
        "import xgboost as xgb\n",
        "import warnings\n",
        "warnings.filterwarnings('ignore')\n",
        "plt.style.use('ggplot')"
      ],
      "execution_count": 2,
      "outputs": []
    },
    {
      "cell_type": "code",
      "metadata": {
        "colab": {
          "base_uri": "https://localhost:8080/"
        },
        "id": "N9FPy0JLLJ3i",
        "outputId": "8007aa27-31a9-44d8-813b-626e7b470209"
      },
      "source": [
        "pip install pyunpack\n"
      ],
      "execution_count": 5,
      "outputs": [
        {
          "output_type": "stream",
          "name": "stdout",
          "text": [
            "Collecting pyunpack\n",
            "  Downloading pyunpack-0.2.2-py2.py3-none-any.whl (3.8 kB)\n",
            "Collecting entrypoint2\n",
            "  Downloading entrypoint2-0.2.4-py3-none-any.whl (6.2 kB)\n",
            "Collecting easyprocess\n",
            "  Downloading EasyProcess-0.3-py2.py3-none-any.whl (7.9 kB)\n",
            "Installing collected packages: entrypoint2, easyprocess, pyunpack\n",
            "Successfully installed easyprocess-0.3 entrypoint2-0.2.4 pyunpack-0.2.2\n"
          ]
        }
      ]
    },
    {
      "cell_type": "code",
      "metadata": {
        "colab": {
          "base_uri": "https://localhost:8080/"
        },
        "id": "uIeFxcbJLNve",
        "outputId": "3a3f6985-794b-43e5-a603-3f652afb9de2"
      },
      "source": [
        "pip install patool"
      ],
      "execution_count": 6,
      "outputs": [
        {
          "output_type": "stream",
          "name": "stdout",
          "text": [
            "Collecting patool\n",
            "  Downloading patool-1.12-py2.py3-none-any.whl (77 kB)\n",
            "\u001b[K     |████████████████████████████████| 77 kB 2.5 MB/s \n",
            "\u001b[?25hInstalling collected packages: patool\n",
            "Successfully installed patool-1.12\n"
          ]
        }
      ]
    },
    {
      "cell_type": "code",
      "metadata": {
        "id": "iKIFssU4LSWo"
      },
      "source": [
        "from pyunpack.cli import Archive\n",
        "\n",
        "directory = \"/content/drive/MyDrive/data's sem 3\"\n",
        "Archive(\"/content/drive/MyDrive/data's sem 3/kkbox-music-recommendation-challenge/train.csv.7z\").extractall(directory)\n",
        "Archive(\"/content/drive/MyDrive/data's sem 3/kkbox-music-recommendation-challenge/test.csv.7z\").extractall(directory)"
      ],
      "execution_count": 7,
      "outputs": []
    },
    {
      "cell_type": "code",
      "metadata": {
        "id": "wPajWMutLzKK"
      },
      "source": [
        "Archive(\"/content/drive/MyDrive/data's sem 3/kkbox-music-recommendation-challenge/members.csv.7z\").extractall(directory)\n",
        "Archive(\"/content/drive/MyDrive/data's sem 3/kkbox-music-recommendation-challenge/songs.csv.7z\").extractall(directory)\n",
        "Archive(\"/content/drive/MyDrive/data's sem 3/kkbox-music-recommendation-challenge/song_extra_info.csv.7z\").extractall(directory)"
      ],
      "execution_count": 8,
      "outputs": []
    },
    {
      "cell_type": "code",
      "metadata": {
        "colab": {
          "base_uri": "https://localhost:8080/",
          "height": 257
        },
        "id": "6HqUlYkSEYkT",
        "outputId": "c5429654-f399-447d-f7c3-efd90d9a422f"
      },
      "source": [
        "#Read the data\n",
        "music_df = pd.read_csv(\"/content/drive/MyDrive/data's sem 3/train.csv\")\n",
        "music_df.head()"
      ],
      "execution_count": 9,
      "outputs": [
        {
          "output_type": "execute_result",
          "data": {
            "text/html": [
              "<div>\n",
              "<style scoped>\n",
              "    .dataframe tbody tr th:only-of-type {\n",
              "        vertical-align: middle;\n",
              "    }\n",
              "\n",
              "    .dataframe tbody tr th {\n",
              "        vertical-align: top;\n",
              "    }\n",
              "\n",
              "    .dataframe thead th {\n",
              "        text-align: right;\n",
              "    }\n",
              "</style>\n",
              "<table border=\"1\" class=\"dataframe\">\n",
              "  <thead>\n",
              "    <tr style=\"text-align: right;\">\n",
              "      <th></th>\n",
              "      <th>msno</th>\n",
              "      <th>song_id</th>\n",
              "      <th>source_system_tab</th>\n",
              "      <th>source_screen_name</th>\n",
              "      <th>source_type</th>\n",
              "      <th>target</th>\n",
              "    </tr>\n",
              "  </thead>\n",
              "  <tbody>\n",
              "    <tr>\n",
              "      <th>0</th>\n",
              "      <td>FGtllVqz18RPiwJj/edr2gV78zirAiY/9SmYvia+kCg=</td>\n",
              "      <td>BBzumQNXUHKdEBOB7mAJuzok+IJA1c2Ryg/yzTF6tik=</td>\n",
              "      <td>explore</td>\n",
              "      <td>Explore</td>\n",
              "      <td>online-playlist</td>\n",
              "      <td>1</td>\n",
              "    </tr>\n",
              "    <tr>\n",
              "      <th>1</th>\n",
              "      <td>Xumu+NIjS6QYVxDS4/t3SawvJ7viT9hPKXmf0RtLNx8=</td>\n",
              "      <td>bhp/MpSNoqoxOIB+/l8WPqu6jldth4DIpCm3ayXnJqM=</td>\n",
              "      <td>my library</td>\n",
              "      <td>Local playlist more</td>\n",
              "      <td>local-playlist</td>\n",
              "      <td>1</td>\n",
              "    </tr>\n",
              "    <tr>\n",
              "      <th>2</th>\n",
              "      <td>Xumu+NIjS6QYVxDS4/t3SawvJ7viT9hPKXmf0RtLNx8=</td>\n",
              "      <td>JNWfrrC7zNN7BdMpsISKa4Mw+xVJYNnxXh3/Epw7QgY=</td>\n",
              "      <td>my library</td>\n",
              "      <td>Local playlist more</td>\n",
              "      <td>local-playlist</td>\n",
              "      <td>1</td>\n",
              "    </tr>\n",
              "    <tr>\n",
              "      <th>3</th>\n",
              "      <td>Xumu+NIjS6QYVxDS4/t3SawvJ7viT9hPKXmf0RtLNx8=</td>\n",
              "      <td>2A87tzfnJTSWqD7gIZHisolhe4DMdzkbd6LzO1KHjNs=</td>\n",
              "      <td>my library</td>\n",
              "      <td>Local playlist more</td>\n",
              "      <td>local-playlist</td>\n",
              "      <td>1</td>\n",
              "    </tr>\n",
              "    <tr>\n",
              "      <th>4</th>\n",
              "      <td>FGtllVqz18RPiwJj/edr2gV78zirAiY/9SmYvia+kCg=</td>\n",
              "      <td>3qm6XTZ6MOCU11x8FIVbAGH5l5uMkT3/ZalWG1oo2Gc=</td>\n",
              "      <td>explore</td>\n",
              "      <td>Explore</td>\n",
              "      <td>online-playlist</td>\n",
              "      <td>1</td>\n",
              "    </tr>\n",
              "  </tbody>\n",
              "</table>\n",
              "</div>"
            ],
            "text/plain": [
              "                                           msno  ... target\n",
              "0  FGtllVqz18RPiwJj/edr2gV78zirAiY/9SmYvia+kCg=  ...      1\n",
              "1  Xumu+NIjS6QYVxDS4/t3SawvJ7viT9hPKXmf0RtLNx8=  ...      1\n",
              "2  Xumu+NIjS6QYVxDS4/t3SawvJ7viT9hPKXmf0RtLNx8=  ...      1\n",
              "3  Xumu+NIjS6QYVxDS4/t3SawvJ7viT9hPKXmf0RtLNx8=  ...      1\n",
              "4  FGtllVqz18RPiwJj/edr2gV78zirAiY/9SmYvia+kCg=  ...      1\n",
              "\n",
              "[5 rows x 6 columns]"
            ]
          },
          "metadata": {},
          "execution_count": 9
        }
      ]
    },
    {
      "cell_type": "markdown",
      "metadata": {
        "id": "_2sM1Oe_Mlzn"
      },
      "source": [
        "### EDA"
      ]
    },
    {
      "cell_type": "code",
      "metadata": {
        "colab": {
          "base_uri": "https://localhost:8080/"
        },
        "id": "eBJQxGEbLMQj",
        "outputId": "93fdc5e1-0f8b-4fc5-e966-60379b8dd440"
      },
      "source": [
        "music_df.shape"
      ],
      "execution_count": 10,
      "outputs": [
        {
          "output_type": "execute_result",
          "data": {
            "text/plain": [
              "(7377418, 6)"
            ]
          },
          "metadata": {},
          "execution_count": 10
        }
      ]
    },
    {
      "cell_type": "code",
      "metadata": {
        "id": "dFXnuEgPLM4n"
      },
      "source": [
        "#sampling the data to return a random sample of items from an axis of object.\n",
        "music_df = music_df.sample(frac=0.1)"
      ],
      "execution_count": 11,
      "outputs": []
    },
    {
      "cell_type": "code",
      "metadata": {
        "colab": {
          "base_uri": "https://localhost:8080/",
          "height": 295
        },
        "id": "jqPoM9xTEYnM",
        "outputId": "6bc246db-b340-4dd4-9335-48f40b5a8fb0"
      },
      "source": [
        "music_df.describe()"
      ],
      "execution_count": 12,
      "outputs": [
        {
          "output_type": "execute_result",
          "data": {
            "text/html": [
              "<div>\n",
              "<style scoped>\n",
              "    .dataframe tbody tr th:only-of-type {\n",
              "        vertical-align: middle;\n",
              "    }\n",
              "\n",
              "    .dataframe tbody tr th {\n",
              "        vertical-align: top;\n",
              "    }\n",
              "\n",
              "    .dataframe thead th {\n",
              "        text-align: right;\n",
              "    }\n",
              "</style>\n",
              "<table border=\"1\" class=\"dataframe\">\n",
              "  <thead>\n",
              "    <tr style=\"text-align: right;\">\n",
              "      <th></th>\n",
              "      <th>target</th>\n",
              "    </tr>\n",
              "  </thead>\n",
              "  <tbody>\n",
              "    <tr>\n",
              "      <th>count</th>\n",
              "      <td>737742.000000</td>\n",
              "    </tr>\n",
              "    <tr>\n",
              "      <th>mean</th>\n",
              "      <td>0.503263</td>\n",
              "    </tr>\n",
              "    <tr>\n",
              "      <th>std</th>\n",
              "      <td>0.499990</td>\n",
              "    </tr>\n",
              "    <tr>\n",
              "      <th>min</th>\n",
              "      <td>0.000000</td>\n",
              "    </tr>\n",
              "    <tr>\n",
              "      <th>25%</th>\n",
              "      <td>0.000000</td>\n",
              "    </tr>\n",
              "    <tr>\n",
              "      <th>50%</th>\n",
              "      <td>1.000000</td>\n",
              "    </tr>\n",
              "    <tr>\n",
              "      <th>75%</th>\n",
              "      <td>1.000000</td>\n",
              "    </tr>\n",
              "    <tr>\n",
              "      <th>max</th>\n",
              "      <td>1.000000</td>\n",
              "    </tr>\n",
              "  </tbody>\n",
              "</table>\n",
              "</div>"
            ],
            "text/plain": [
              "              target\n",
              "count  737742.000000\n",
              "mean        0.503263\n",
              "std         0.499990\n",
              "min         0.000000\n",
              "25%         0.000000\n",
              "50%         1.000000\n",
              "75%         1.000000\n",
              "max         1.000000"
            ]
          },
          "metadata": {},
          "execution_count": 12
        }
      ]
    },
    {
      "cell_type": "code",
      "metadata": {
        "colab": {
          "base_uri": "https://localhost:8080/"
        },
        "id": "o0BM-1DUMvFl",
        "outputId": "04bbcbc6-00ec-4e4e-cec3-e58fc61b2359"
      },
      "source": [
        "music_df.info()"
      ],
      "execution_count": 13,
      "outputs": [
        {
          "output_type": "stream",
          "name": "stdout",
          "text": [
            "<class 'pandas.core.frame.DataFrame'>\n",
            "Int64Index: 737742 entries, 5087404 to 5660885\n",
            "Data columns (total 6 columns):\n",
            " #   Column              Non-Null Count   Dtype \n",
            "---  ------              --------------   ----- \n",
            " 0   msno                737742 non-null  object\n",
            " 1   song_id             737742 non-null  object\n",
            " 2   source_system_tab   735275 non-null  object\n",
            " 3   source_screen_name  696270 non-null  object\n",
            " 4   source_type         735592 non-null  object\n",
            " 5   target              737742 non-null  int64 \n",
            "dtypes: int64(1), object(5)\n",
            "memory usage: 39.4+ MB\n"
          ]
        }
      ]
    },
    {
      "cell_type": "markdown",
      "metadata": {
        "id": "Irzt_OXRM0nP"
      },
      "source": [
        "#### Countplot on source_type"
      ]
    },
    {
      "cell_type": "code",
      "metadata": {
        "colab": {
          "base_uri": "https://localhost:8080/",
          "height": 725
        },
        "id": "LfrwLrAJMxek",
        "outputId": "4fa78bf4-6b12-4727-e38c-3de9fb359086"
      },
      "source": [
        "plt.figure(figsize=(15,10))\n",
        "sns.set(font_scale=1.5)\n",
        "sns.countplot(x='source_type',hue='source_type',data=music_df)\n",
        "sns.set(style=\"darkgrid\")\n",
        "plt.xlabel('source types',fontsize=15)\n",
        "plt.ylabel('count',fontsize=15)\n",
        "plt.xticks(rotation='45')\n",
        "plt.title('Count plot source types for listening music',fontsize=15)\n",
        "plt.tight_layout()"
      ],
      "execution_count": 14,
      "outputs": [
        {
          "output_type": "display_data",
          "data": {
            "image/png": "[encoded data removed]",
            "text/plain": [
              "<Figure size 1080x720 with 1 Axes>"
            ]
          },
          "metadata": {}
        }
      ]
    },
    {
      "cell_type": "markdown",
      "metadata": {
        "id": "RqhrTtBMM8Jy"
      },
      "source": [
        "we can see that local library are more perffered than any other source types as well after that online playlist"
      ]
    },
    {
      "cell_type": "markdown",
      "metadata": {
        "id": "GDHSdLPMM_Q5"
      },
      "source": [
        "#### Countplt on source_screen_name\n"
      ]
    },
    {
      "cell_type": "code",
      "metadata": {
        "colab": {
          "base_uri": "https://localhost:8080/",
          "height": 725
        },
        "id": "5xX89jQFM4Q2",
        "outputId": "0d0bae37-0409-4e02-8b87-2beb747fd9b3"
      },
      "source": [
        "plt.figure(figsize=(15,10))\n",
        "sns.set(font_scale=1)\n",
        "sns.countplot(y='source_screen_name',data=music_df,facecolor=(0,0,0,0),linewidth=5,edgecolor=sns.color_palette('dark',3))\n",
        "sns.set(style=\"darkgrid\")\n",
        "plt.xlabel('source types',fontsize=15)\n",
        "plt.ylabel('count',fontsize=15)\n",
        "plt.xticks(rotation='45')\n",
        "plt.title('Count plot for which screen using ',fontsize=15)\n",
        "plt.tight_layout()"
      ],
      "execution_count": 15,
      "outputs": [
        {
          "output_type": "display_data",
          "data": {
            "image/png": "[encoded data removed]",
            "text/plain": [
              "<Figure size 1080x720 with 1 Axes>"
            ]
          },
          "metadata": {}
        }
      ]
    },
    {
      "cell_type": "markdown",
      "metadata": {
        "id": "sA6c3z5xNJNZ"
      },
      "source": [
        "we can see that local play list has the highest preference\n",
        "\n"
      ]
    },
    {
      "cell_type": "markdown",
      "metadata": {
        "id": "YOMKYqTlNL3i"
      },
      "source": [
        "#### countplot on source_system_tab\n"
      ]
    },
    {
      "cell_type": "code",
      "metadata": {
        "colab": {
          "base_uri": "https://localhost:8080/",
          "height": 725
        },
        "id": "5ujsPc_4NFbO",
        "outputId": "bb1aae60-1b22-4fc8-a813-cd30abcdfa14"
      },
      "source": [
        "plt.figure(figsize=(15,10))\n",
        "sns.set(font_scale=1.5)\n",
        "sns.countplot(x='source_system_tab',hue='source_system_tab',data=music_df)\n",
        "sns.set(style=\"darkgrid\")\n",
        "plt.xlabel('source types',fontsize=15)\n",
        "plt.ylabel('count',fontsize=15)\n",
        "plt.xticks(rotation='45')\n",
        "plt.title('Count plot for system tab there are using',fontsize=15)\n",
        "plt.tight_layout()"
      ],
      "execution_count": 16,
      "outputs": [
        {
          "output_type": "display_data",
          "data": {
            "image/png": "[encoded data removed]",
            "text/plain": [
              "<Figure size 1080x720 with 1 Axes>"
            ]
          },
          "metadata": {}
        }
      ]
    },
    {
      "cell_type": "code",
      "metadata": {
        "id": "Gdg4uNDRNP_F"
      },
      "source": [
        "#Read the music_df file\n",
        "music_df = music_df.sample(frac=0.1)"
      ],
      "execution_count": 17,
      "outputs": []
    },
    {
      "cell_type": "code",
      "metadata": {
        "colab": {
          "base_uri": "https://localhost:8080/",
          "height": 237
        },
        "id": "lfHbCNmWNVSp",
        "outputId": "f25a81f7-f32a-40b8-ca82-5500143a02cc"
      },
      "source": [
        "songs_df = pd.read_csv(\"/content/drive/MyDrive/data's sem 3/songs.csv\")\n",
        "songs_df.head()"
      ],
      "execution_count": 19,
      "outputs": [
        {
          "output_type": "execute_result",
          "data": {
            "text/html": [
              "<div>\n",
              "<style scoped>\n",
              "    .dataframe tbody tr th:only-of-type {\n",
              "        vertical-align: middle;\n",
              "    }\n",
              "\n",
              "    .dataframe tbody tr th {\n",
              "        vertical-align: top;\n",
              "    }\n",
              "\n",
              "    .dataframe thead th {\n",
              "        text-align: right;\n",
              "    }\n",
              "</style>\n",
              "<table border=\"1\" class=\"dataframe\">\n",
              "  <thead>\n",
              "    <tr style=\"text-align: right;\">\n",
              "      <th></th>\n",
              "      <th>song_id</th>\n",
              "      <th>song_length</th>\n",
              "      <th>genre_ids</th>\n",
              "      <th>artist_name</th>\n",
              "      <th>composer</th>\n",
              "      <th>lyricist</th>\n",
              "      <th>language</th>\n",
              "    </tr>\n",
              "  </thead>\n",
              "  <tbody>\n",
              "    <tr>\n",
              "      <th>0</th>\n",
              "      <td>CXoTN1eb7AI+DntdU1vbcwGRV4SCIDxZu+YD8JP8r4E=</td>\n",
              "      <td>247640</td>\n",
              "      <td>465</td>\n",
              "      <td>張信哲 (Jeff Chang)</td>\n",
              "      <td>董貞</td>\n",
              "      <td>何啟弘</td>\n",
              "      <td>3.0</td>\n",
              "    </tr>\n",
              "    <tr>\n",
              "      <th>1</th>\n",
              "      <td>o0kFgae9QtnYgRkVPqLJwa05zIhRlUjfF7O1tDw0ZDU=</td>\n",
              "      <td>197328</td>\n",
              "      <td>444</td>\n",
              "      <td>BLACKPINK</td>\n",
              "      <td>TEDDY|  FUTURE BOUNCE|  Bekuh BOOM</td>\n",
              "      <td>TEDDY</td>\n",
              "      <td>31.0</td>\n",
              "    </tr>\n",
              "    <tr>\n",
              "      <th>2</th>\n",
              "      <td>DwVvVurfpuz+XPuFvucclVQEyPqcpUkHR0ne1RQzPs0=</td>\n",
              "      <td>231781</td>\n",
              "      <td>465</td>\n",
              "      <td>SUPER JUNIOR</td>\n",
              "      <td>NaN</td>\n",
              "      <td>NaN</td>\n",
              "      <td>31.0</td>\n",
              "    </tr>\n",
              "    <tr>\n",
              "      <th>3</th>\n",
              "      <td>dKMBWoZyScdxSkihKG+Vf47nc18N9q4m58+b4e7dSSE=</td>\n",
              "      <td>273554</td>\n",
              "      <td>465</td>\n",
              "      <td>S.H.E</td>\n",
              "      <td>湯小康</td>\n",
              "      <td>徐世珍</td>\n",
              "      <td>3.0</td>\n",
              "    </tr>\n",
              "    <tr>\n",
              "      <th>4</th>\n",
              "      <td>W3bqWd3T+VeHFzHAUfARgW9AvVRaF4N5Yzm4Mr6Eo/o=</td>\n",
              "      <td>140329</td>\n",
              "      <td>726</td>\n",
              "      <td>貴族精選</td>\n",
              "      <td>Traditional</td>\n",
              "      <td>Traditional</td>\n",
              "      <td>52.0</td>\n",
              "    </tr>\n",
              "  </tbody>\n",
              "</table>\n",
              "</div>"
            ],
            "text/plain": [
              "                                        song_id  ...  language\n",
              "0  CXoTN1eb7AI+DntdU1vbcwGRV4SCIDxZu+YD8JP8r4E=  ...       3.0\n",
              "1  o0kFgae9QtnYgRkVPqLJwa05zIhRlUjfF7O1tDw0ZDU=  ...      31.0\n",
              "2  DwVvVurfpuz+XPuFvucclVQEyPqcpUkHR0ne1RQzPs0=  ...      31.0\n",
              "3  dKMBWoZyScdxSkihKG+Vf47nc18N9q4m58+b4e7dSSE=  ...       3.0\n",
              "4  W3bqWd3T+VeHFzHAUfARgW9AvVRaF4N5Yzm4Mr6Eo/o=  ...      52.0\n",
              "\n",
              "[5 rows x 7 columns]"
            ]
          },
          "metadata": {},
          "execution_count": 19
        }
      ]
    },
    {
      "cell_type": "code",
      "metadata": {
        "colab": {
          "base_uri": "https://localhost:8080/"
        },
        "id": "va-O_a5BNYXp",
        "outputId": "4ccb0c07-2b0a-4244-f6a9-369acf3c20b6"
      },
      "source": [
        "songs_df.info()"
      ],
      "execution_count": 20,
      "outputs": [
        {
          "output_type": "stream",
          "name": "stdout",
          "text": [
            "<class 'pandas.core.frame.DataFrame'>\n",
            "RangeIndex: 2296320 entries, 0 to 2296319\n",
            "Data columns (total 7 columns):\n",
            " #   Column       Dtype  \n",
            "---  ------       -----  \n",
            " 0   song_id      object \n",
            " 1   song_length  int64  \n",
            " 2   genre_ids    object \n",
            " 3   artist_name  object \n",
            " 4   composer     object \n",
            " 5   lyricist     object \n",
            " 6   language     float64\n",
            "dtypes: float64(1), int64(1), object(5)\n",
            "memory usage: 122.6+ MB\n"
          ]
        }
      ]
    },
    {
      "cell_type": "code",
      "metadata": {
        "colab": {
          "base_uri": "https://localhost:8080/",
          "height": 290
        },
        "id": "LSn7rnvANiVh",
        "outputId": "716b8a78-1fd8-4ee1-829b-0aa36ee83e54"
      },
      "source": [
        "#Merge that file into existing dataframe\n",
        "music_df = pd.merge(music_df, songs_df,on=\"song_id\", how=\"left\")\n",
        "music_df.head()"
      ],
      "execution_count": 21,
      "outputs": [
        {
          "output_type": "execute_result",
          "data": {
            "text/html": [
              "<div>\n",
              "<style scoped>\n",
              "    .dataframe tbody tr th:only-of-type {\n",
              "        vertical-align: middle;\n",
              "    }\n",
              "\n",
              "    .dataframe tbody tr th {\n",
              "        vertical-align: top;\n",
              "    }\n",
              "\n",
              "    .dataframe thead th {\n",
              "        text-align: right;\n",
              "    }\n",
              "</style>\n",
              "<table border=\"1\" class=\"dataframe\">\n",
              "  <thead>\n",
              "    <tr style=\"text-align: right;\">\n",
              "      <th></th>\n",
              "      <th>msno</th>\n",
              "      <th>song_id</th>\n",
              "      <th>source_system_tab</th>\n",
              "      <th>source_screen_name</th>\n",
              "      <th>source_type</th>\n",
              "      <th>target</th>\n",
              "      <th>song_length</th>\n",
              "      <th>genre_ids</th>\n",
              "      <th>artist_name</th>\n",
              "      <th>composer</th>\n",
              "      <th>lyricist</th>\n",
              "      <th>language</th>\n",
              "    </tr>\n",
              "  </thead>\n",
              "  <tbody>\n",
              "    <tr>\n",
              "      <th>0</th>\n",
              "      <td>Cd5jCGcI/dwq5L1i58DZKqRuOLc2LvvsJfWRYMRfZrY=</td>\n",
              "      <td>H0pfaBjENAn1eYhCA5+rurd8AnnJF17J512SKZBfvfU=</td>\n",
              "      <td>my library</td>\n",
              "      <td>Local playlist more</td>\n",
              "      <td>local-playlist</td>\n",
              "      <td>0</td>\n",
              "      <td>247911.0</td>\n",
              "      <td>465</td>\n",
              "      <td>莫文蔚 (Karen Mok)</td>\n",
              "      <td>Skot Suyama</td>\n",
              "      <td>李焯雄</td>\n",
              "      <td>3.0</td>\n",
              "    </tr>\n",
              "    <tr>\n",
              "      <th>1</th>\n",
              "      <td>gaMVNUs2JwRHyklRKQhklPvIs7u5uOqmuQ/n3MiQaeE=</td>\n",
              "      <td>+SstqMwhQPBQFTPBhLKPT642IiBDXzZFwlzsLl4cGXo=</td>\n",
              "      <td>discover</td>\n",
              "      <td>Online playlist more</td>\n",
              "      <td>online-playlist</td>\n",
              "      <td>1</td>\n",
              "      <td>283846.0</td>\n",
              "      <td>465</td>\n",
              "      <td>陳勢安 (Andrew Tan)</td>\n",
              "      <td>覃嘉健</td>\n",
              "      <td>馬嵩惟</td>\n",
              "      <td>3.0</td>\n",
              "    </tr>\n",
              "    <tr>\n",
              "      <th>2</th>\n",
              "      <td>SyjIF0jiR6LetsEF7CEx48L/Prf6wRkugjYy6v02Stg=</td>\n",
              "      <td>AHx/QHvJzdwpro1+Cbp+LjMqARfiBeQ3C68LWQwfU2E=</td>\n",
              "      <td>radio</td>\n",
              "      <td>Radio</td>\n",
              "      <td>radio</td>\n",
              "      <td>0</td>\n",
              "      <td>339150.0</td>\n",
              "      <td>786</td>\n",
              "      <td>V.K</td>\n",
              "      <td>NaN</td>\n",
              "      <td>NaN</td>\n",
              "      <td>-1.0</td>\n",
              "    </tr>\n",
              "    <tr>\n",
              "      <th>3</th>\n",
              "      <td>4DlS5LiANEKlMTQD08dakyV1JWwPYI/n1wyjx4ImjPc=</td>\n",
              "      <td>fJVAbDTwVns4pPmdQxlPjxNHMPmz5ioM6bswGA5lOsA=</td>\n",
              "      <td>my library</td>\n",
              "      <td>Local playlist more</td>\n",
              "      <td>local-playlist</td>\n",
              "      <td>1</td>\n",
              "      <td>205453.0</td>\n",
              "      <td>359</td>\n",
              "      <td>Green Day</td>\n",
              "      <td>Green Day</td>\n",
              "      <td>Billie Joe Armstrong</td>\n",
              "      <td>52.0</td>\n",
              "    </tr>\n",
              "    <tr>\n",
              "      <th>4</th>\n",
              "      <td>UfneAP0cJfVVl3K0rNcF+7+O3iGX/X7rGXyvklQ4RLs=</td>\n",
              "      <td>Qy+gXpJ+XViWd3/wBKB6NMQJgiyfC2Db3eGBeo8Bq5s=</td>\n",
              "      <td>my library</td>\n",
              "      <td>Local playlist more</td>\n",
              "      <td>local-library</td>\n",
              "      <td>1</td>\n",
              "      <td>228101.0</td>\n",
              "      <td>465</td>\n",
              "      <td>aMEI (張惠妹)</td>\n",
              "      <td>梁思樺</td>\n",
              "      <td>易家揚</td>\n",
              "      <td>3.0</td>\n",
              "    </tr>\n",
              "  </tbody>\n",
              "</table>\n",
              "</div>"
            ],
            "text/plain": [
              "                                           msno  ... language\n",
              "0  Cd5jCGcI/dwq5L1i58DZKqRuOLc2LvvsJfWRYMRfZrY=  ...      3.0\n",
              "1  gaMVNUs2JwRHyklRKQhklPvIs7u5uOqmuQ/n3MiQaeE=  ...      3.0\n",
              "2  SyjIF0jiR6LetsEF7CEx48L/Prf6wRkugjYy6v02Stg=  ...     -1.0\n",
              "3  4DlS5LiANEKlMTQD08dakyV1JWwPYI/n1wyjx4ImjPc=  ...     52.0\n",
              "4  UfneAP0cJfVVl3K0rNcF+7+O3iGX/X7rGXyvklQ4RLs=  ...      3.0\n",
              "\n",
              "[5 rows x 12 columns]"
            ]
          },
          "metadata": {},
          "execution_count": 21
        }
      ]
    },
    {
      "cell_type": "code",
      "metadata": {
        "colab": {
          "base_uri": "https://localhost:8080/"
        },
        "id": "qK_IDqTuNk6o",
        "outputId": "0a01978f-9e6c-4add-add3-616b387d3a25"
      },
      "source": [
        "music_df.info()"
      ],
      "execution_count": 22,
      "outputs": [
        {
          "output_type": "stream",
          "name": "stdout",
          "text": [
            "<class 'pandas.core.frame.DataFrame'>\n",
            "Int64Index: 73774 entries, 0 to 73773\n",
            "Data columns (total 12 columns):\n",
            " #   Column              Non-Null Count  Dtype  \n",
            "---  ------              --------------  -----  \n",
            " 0   msno                73774 non-null  object \n",
            " 1   song_id             73774 non-null  object \n",
            " 2   source_system_tab   73526 non-null  object \n",
            " 3   source_screen_name  69641 non-null  object \n",
            " 4   source_type         73549 non-null  object \n",
            " 5   target              73774 non-null  int64  \n",
            " 6   song_length         73773 non-null  float64\n",
            " 7   genre_ids           72571 non-null  object \n",
            " 8   artist_name         73773 non-null  object \n",
            " 9   composer            57164 non-null  object \n",
            " 10  lyricist            42017 non-null  object \n",
            " 11  language            73773 non-null  float64\n",
            "dtypes: float64(2), int64(1), object(9)\n",
            "memory usage: 7.3+ MB\n"
          ]
        }
      ]
    },
    {
      "cell_type": "code",
      "metadata": {
        "colab": {
          "base_uri": "https://localhost:8080/",
          "height": 203
        },
        "id": "3ThGF7wZNnPX",
        "outputId": "1a89e64c-c04b-438c-9dee-1270da58ed7d"
      },
      "source": [
        "#reading the members file\n",
        "members_df = pd.read_csv(\"/content/drive/MyDrive/data's sem 3/members.csv\")\n",
        "members_df.head()"
      ],
      "execution_count": 23,
      "outputs": [
        {
          "output_type": "execute_result",
          "data": {
            "text/html": [
              "<div>\n",
              "<style scoped>\n",
              "    .dataframe tbody tr th:only-of-type {\n",
              "        vertical-align: middle;\n",
              "    }\n",
              "\n",
              "    .dataframe tbody tr th {\n",
              "        vertical-align: top;\n",
              "    }\n",
              "\n",
              "    .dataframe thead th {\n",
              "        text-align: right;\n",
              "    }\n",
              "</style>\n",
              "<table border=\"1\" class=\"dataframe\">\n",
              "  <thead>\n",
              "    <tr style=\"text-align: right;\">\n",
              "      <th></th>\n",
              "      <th>msno</th>\n",
              "      <th>city</th>\n",
              "      <th>bd</th>\n",
              "      <th>gender</th>\n",
              "      <th>registered_via</th>\n",
              "      <th>registration_init_time</th>\n",
              "      <th>expiration_date</th>\n",
              "    </tr>\n",
              "  </thead>\n",
              "  <tbody>\n",
              "    <tr>\n",
              "      <th>0</th>\n",
              "      <td>XQxgAYj3klVKjR3oxPPXYYFp4soD4TuBghkhMTD4oTw=</td>\n",
              "      <td>1</td>\n",
              "      <td>0</td>\n",
              "      <td>NaN</td>\n",
              "      <td>7</td>\n",
              "      <td>20110820</td>\n",
              "      <td>20170920</td>\n",
              "    </tr>\n",
              "    <tr>\n",
              "      <th>1</th>\n",
              "      <td>UizsfmJb9mV54qE9hCYyU07Va97c0lCRLEQX3ae+ztM=</td>\n",
              "      <td>1</td>\n",
              "      <td>0</td>\n",
              "      <td>NaN</td>\n",
              "      <td>7</td>\n",
              "      <td>20150628</td>\n",
              "      <td>20170622</td>\n",
              "    </tr>\n",
              "    <tr>\n",
              "      <th>2</th>\n",
              "      <td>D8nEhsIOBSoE6VthTaqDX8U6lqjJ7dLdr72mOyLya2A=</td>\n",
              "      <td>1</td>\n",
              "      <td>0</td>\n",
              "      <td>NaN</td>\n",
              "      <td>4</td>\n",
              "      <td>20160411</td>\n",
              "      <td>20170712</td>\n",
              "    </tr>\n",
              "    <tr>\n",
              "      <th>3</th>\n",
              "      <td>mCuD+tZ1hERA/o5GPqk38e041J8ZsBaLcu7nGoIIvhI=</td>\n",
              "      <td>1</td>\n",
              "      <td>0</td>\n",
              "      <td>NaN</td>\n",
              "      <td>9</td>\n",
              "      <td>20150906</td>\n",
              "      <td>20150907</td>\n",
              "    </tr>\n",
              "    <tr>\n",
              "      <th>4</th>\n",
              "      <td>q4HRBfVSssAFS9iRfxWrohxuk9kCYMKjHOEagUMV6rQ=</td>\n",
              "      <td>1</td>\n",
              "      <td>0</td>\n",
              "      <td>NaN</td>\n",
              "      <td>4</td>\n",
              "      <td>20170126</td>\n",
              "      <td>20170613</td>\n",
              "    </tr>\n",
              "  </tbody>\n",
              "</table>\n",
              "</div>"
            ],
            "text/plain": [
              "                                           msno  ...  expiration_date\n",
              "0  XQxgAYj3klVKjR3oxPPXYYFp4soD4TuBghkhMTD4oTw=  ...         20170920\n",
              "1  UizsfmJb9mV54qE9hCYyU07Va97c0lCRLEQX3ae+ztM=  ...         20170622\n",
              "2  D8nEhsIOBSoE6VthTaqDX8U6lqjJ7dLdr72mOyLya2A=  ...         20170712\n",
              "3  mCuD+tZ1hERA/o5GPqk38e041J8ZsBaLcu7nGoIIvhI=  ...         20150907\n",
              "4  q4HRBfVSssAFS9iRfxWrohxuk9kCYMKjHOEagUMV6rQ=  ...         20170613\n",
              "\n",
              "[5 rows x 7 columns]"
            ]
          },
          "metadata": {},
          "execution_count": 23
        }
      ]
    },
    {
      "cell_type": "code",
      "metadata": {
        "colab": {
          "base_uri": "https://localhost:8080/"
        },
        "id": "1k6YUWXcNseL",
        "outputId": "87d61c6c-4ef7-49bd-e5aa-6396e4e996eb"
      },
      "source": [
        "#merging it into original dataframe\n",
        "music_df = pd.merge(music_df, members_df, on=\"msno\", how=\"left\")\n",
        "music_df.info()"
      ],
      "execution_count": 24,
      "outputs": [
        {
          "output_type": "stream",
          "name": "stdout",
          "text": [
            "<class 'pandas.core.frame.DataFrame'>\n",
            "Int64Index: 73774 entries, 0 to 73773\n",
            "Data columns (total 18 columns):\n",
            " #   Column                  Non-Null Count  Dtype  \n",
            "---  ------                  --------------  -----  \n",
            " 0   msno                    73774 non-null  object \n",
            " 1   song_id                 73774 non-null  object \n",
            " 2   source_system_tab       73526 non-null  object \n",
            " 3   source_screen_name      69641 non-null  object \n",
            " 4   source_type             73549 non-null  object \n",
            " 5   target                  73774 non-null  int64  \n",
            " 6   song_length             73773 non-null  float64\n",
            " 7   genre_ids               72571 non-null  object \n",
            " 8   artist_name             73773 non-null  object \n",
            " 9   composer                57164 non-null  object \n",
            " 10  lyricist                42017 non-null  object \n",
            " 11  language                73773 non-null  float64\n",
            " 12  city                    73774 non-null  int64  \n",
            " 13  bd                      73774 non-null  int64  \n",
            " 14  gender                  44089 non-null  object \n",
            " 15  registered_via          73774 non-null  int64  \n",
            " 16  registration_init_time  73774 non-null  int64  \n",
            " 17  expiration_date         73774 non-null  int64  \n",
            "dtypes: float64(2), int64(6), object(10)\n",
            "memory usage: 10.7+ MB\n"
          ]
        }
      ]
    },
    {
      "cell_type": "code",
      "metadata": {
        "colab": {
          "base_uri": "https://localhost:8080/"
        },
        "id": "dcXLMZSONxKS",
        "outputId": "dfb768ad-ab03-4a75-d814-4418c15ea39e"
      },
      "source": [
        "#check for null values now\n",
        "music_df.isnull().any()"
      ],
      "execution_count": 25,
      "outputs": [
        {
          "output_type": "execute_result",
          "data": {
            "text/plain": [
              "msno                      False\n",
              "song_id                   False\n",
              "source_system_tab          True\n",
              "source_screen_name         True\n",
              "source_type                True\n",
              "target                    False\n",
              "song_length                True\n",
              "genre_ids                  True\n",
              "artist_name                True\n",
              "composer                   True\n",
              "lyricist                   True\n",
              "language                   True\n",
              "city                      False\n",
              "bd                        False\n",
              "gender                     True\n",
              "registered_via            False\n",
              "registration_init_time    False\n",
              "expiration_date           False\n",
              "dtype: bool"
            ]
          },
          "metadata": {},
          "execution_count": 25
        }
      ]
    },
    {
      "cell_type": "code",
      "metadata": {
        "id": "8mYi0bKYN0Vt"
      },
      "source": [
        "# since we have null values, we replace null values\n",
        "\n",
        "for item in music_df.select_dtypes(include=['object']).columns:\n",
        "    music_df[item][music_df[item].isnull()]='unknown'\n",
        "music_df = music_df.fillna(value=0)\n"
      ],
      "execution_count": 26,
      "outputs": []
    },
    {
      "cell_type": "code",
      "metadata": {
        "colab": {
          "base_uri": "https://localhost:8080/",
          "height": 290
        },
        "id": "ix_2-ZLVN4pk",
        "outputId": "0f542cc6-2441-4550-c332-d45464494d16"
      },
      "source": [
        "music_df.head()"
      ],
      "execution_count": 27,
      "outputs": [
        {
          "output_type": "execute_result",
          "data": {
            "text/html": [
              "<div>\n",
              "<style scoped>\n",
              "    .dataframe tbody tr th:only-of-type {\n",
              "        vertical-align: middle;\n",
              "    }\n",
              "\n",
              "    .dataframe tbody tr th {\n",
              "        vertical-align: top;\n",
              "    }\n",
              "\n",
              "    .dataframe thead th {\n",
              "        text-align: right;\n",
              "    }\n",
              "</style>\n",
              "<table border=\"1\" class=\"dataframe\">\n",
              "  <thead>\n",
              "    <tr style=\"text-align: right;\">\n",
              "      <th></th>\n",
              "      <th>msno</th>\n",
              "      <th>song_id</th>\n",
              "      <th>source_system_tab</th>\n",
              "      <th>source_screen_name</th>\n",
              "      <th>source_type</th>\n",
              "      <th>target</th>\n",
              "      <th>song_length</th>\n",
              "      <th>genre_ids</th>\n",
              "      <th>artist_name</th>\n",
              "      <th>composer</th>\n",
              "      <th>lyricist</th>\n",
              "      <th>language</th>\n",
              "      <th>city</th>\n",
              "      <th>bd</th>\n",
              "      <th>gender</th>\n",
              "      <th>registered_via</th>\n",
              "      <th>registration_init_time</th>\n",
              "      <th>expiration_date</th>\n",
              "    </tr>\n",
              "  </thead>\n",
              "  <tbody>\n",
              "    <tr>\n",
              "      <th>0</th>\n",
              "      <td>Cd5jCGcI/dwq5L1i58DZKqRuOLc2LvvsJfWRYMRfZrY=</td>\n",
              "      <td>H0pfaBjENAn1eYhCA5+rurd8AnnJF17J512SKZBfvfU=</td>\n",
              "      <td>my library</td>\n",
              "      <td>Local playlist more</td>\n",
              "      <td>local-playlist</td>\n",
              "      <td>0</td>\n",
              "      <td>247911.0</td>\n",
              "      <td>465</td>\n",
              "      <td>莫文蔚 (Karen Mok)</td>\n",
              "      <td>Skot Suyama</td>\n",
              "      <td>李焯雄</td>\n",
              "      <td>3.0</td>\n",
              "      <td>13</td>\n",
              "      <td>31</td>\n",
              "      <td>male</td>\n",
              "      <td>3</td>\n",
              "      <td>20130427</td>\n",
              "      <td>20171012</td>\n",
              "    </tr>\n",
              "    <tr>\n",
              "      <th>1</th>\n",
              "      <td>gaMVNUs2JwRHyklRKQhklPvIs7u5uOqmuQ/n3MiQaeE=</td>\n",
              "      <td>+SstqMwhQPBQFTPBhLKPT642IiBDXzZFwlzsLl4cGXo=</td>\n",
              "      <td>discover</td>\n",
              "      <td>Online playlist more</td>\n",
              "      <td>online-playlist</td>\n",
              "      <td>1</td>\n",
              "      <td>283846.0</td>\n",
              "      <td>465</td>\n",
              "      <td>陳勢安 (Andrew Tan)</td>\n",
              "      <td>覃嘉健</td>\n",
              "      <td>馬嵩惟</td>\n",
              "      <td>3.0</td>\n",
              "      <td>14</td>\n",
              "      <td>28</td>\n",
              "      <td>male</td>\n",
              "      <td>9</td>\n",
              "      <td>20070101</td>\n",
              "      <td>20170930</td>\n",
              "    </tr>\n",
              "    <tr>\n",
              "      <th>2</th>\n",
              "      <td>SyjIF0jiR6LetsEF7CEx48L/Prf6wRkugjYy6v02Stg=</td>\n",
              "      <td>AHx/QHvJzdwpro1+Cbp+LjMqARfiBeQ3C68LWQwfU2E=</td>\n",
              "      <td>radio</td>\n",
              "      <td>Radio</td>\n",
              "      <td>radio</td>\n",
              "      <td>0</td>\n",
              "      <td>339150.0</td>\n",
              "      <td>786</td>\n",
              "      <td>V.K</td>\n",
              "      <td>unknown</td>\n",
              "      <td>unknown</td>\n",
              "      <td>-1.0</td>\n",
              "      <td>1</td>\n",
              "      <td>0</td>\n",
              "      <td>unknown</td>\n",
              "      <td>7</td>\n",
              "      <td>20150527</td>\n",
              "      <td>20170930</td>\n",
              "    </tr>\n",
              "    <tr>\n",
              "      <th>3</th>\n",
              "      <td>4DlS5LiANEKlMTQD08dakyV1JWwPYI/n1wyjx4ImjPc=</td>\n",
              "      <td>fJVAbDTwVns4pPmdQxlPjxNHMPmz5ioM6bswGA5lOsA=</td>\n",
              "      <td>my library</td>\n",
              "      <td>Local playlist more</td>\n",
              "      <td>local-playlist</td>\n",
              "      <td>1</td>\n",
              "      <td>205453.0</td>\n",
              "      <td>359</td>\n",
              "      <td>Green Day</td>\n",
              "      <td>Green Day</td>\n",
              "      <td>Billie Joe Armstrong</td>\n",
              "      <td>52.0</td>\n",
              "      <td>4</td>\n",
              "      <td>35</td>\n",
              "      <td>male</td>\n",
              "      <td>3</td>\n",
              "      <td>20150805</td>\n",
              "      <td>20170920</td>\n",
              "    </tr>\n",
              "    <tr>\n",
              "      <th>4</th>\n",
              "      <td>UfneAP0cJfVVl3K0rNcF+7+O3iGX/X7rGXyvklQ4RLs=</td>\n",
              "      <td>Qy+gXpJ+XViWd3/wBKB6NMQJgiyfC2Db3eGBeo8Bq5s=</td>\n",
              "      <td>my library</td>\n",
              "      <td>Local playlist more</td>\n",
              "      <td>local-library</td>\n",
              "      <td>1</td>\n",
              "      <td>228101.0</td>\n",
              "      <td>465</td>\n",
              "      <td>aMEI (張惠妹)</td>\n",
              "      <td>梁思樺</td>\n",
              "      <td>易家揚</td>\n",
              "      <td>3.0</td>\n",
              "      <td>9</td>\n",
              "      <td>19</td>\n",
              "      <td>female</td>\n",
              "      <td>3</td>\n",
              "      <td>20130223</td>\n",
              "      <td>20170923</td>\n",
              "    </tr>\n",
              "  </tbody>\n",
              "</table>\n",
              "</div>"
            ],
            "text/plain": [
              "                                           msno  ... expiration_date\n",
              "0  Cd5jCGcI/dwq5L1i58DZKqRuOLc2LvvsJfWRYMRfZrY=  ...        20171012\n",
              "1  gaMVNUs2JwRHyklRKQhklPvIs7u5uOqmuQ/n3MiQaeE=  ...        20170930\n",
              "2  SyjIF0jiR6LetsEF7CEx48L/Prf6wRkugjYy6v02Stg=  ...        20170930\n",
              "3  4DlS5LiANEKlMTQD08dakyV1JWwPYI/n1wyjx4ImjPc=  ...        20170920\n",
              "4  UfneAP0cJfVVl3K0rNcF+7+O3iGX/X7rGXyvklQ4RLs=  ...        20170923\n",
              "\n",
              "[5 rows x 18 columns]"
            ]
          },
          "metadata": {},
          "execution_count": 27
        }
      ]
    },
    {
      "cell_type": "code",
      "metadata": {
        "colab": {
          "base_uri": "https://localhost:8080/"
        },
        "id": "Mbps2rcJN6Fp",
        "outputId": "9a899838-d1f2-455d-ced8-06d4dbd598b7"
      },
      "source": [
        "music_df.isnull().any()"
      ],
      "execution_count": 28,
      "outputs": [
        {
          "output_type": "execute_result",
          "data": {
            "text/plain": [
              "msno                      False\n",
              "song_id                   False\n",
              "source_system_tab         False\n",
              "source_screen_name        False\n",
              "source_type               False\n",
              "target                    False\n",
              "song_length               False\n",
              "genre_ids                 False\n",
              "artist_name               False\n",
              "composer                  False\n",
              "lyricist                  False\n",
              "language                  False\n",
              "city                      False\n",
              "bd                        False\n",
              "gender                    False\n",
              "registered_via            False\n",
              "registration_init_time    False\n",
              "expiration_date           False\n",
              "dtype: bool"
            ]
          },
          "metadata": {},
          "execution_count": 28
        }
      ]
    },
    {
      "cell_type": "code",
      "metadata": {
        "id": "F4gL-O3LOEXq"
      },
      "source": [
        "#Seperate Dates\n",
        "\n",
        "music_df.registration_init_time = pd.to_datetime(music_df.registration_init_time, format=\"%Y%m%d\",errors='ignore')\n",
        "music_df[\"registration_init_time_year\"]  = music_df.registration_init_time.dt.year\n",
        "music_df[\"registration_init_time_month\"] = music_df.registration_init_time.dt.month\n",
        "music_df[\"registration_init_time_day\"]   = music_df.registration_init_time.dt.day\n",
        "\n",
        "\n",
        "#expiration date\n",
        "music_df.expiration_date = pd.to_datetime(music_df.expiration_date,  format='%Y%m%d', errors='ignore')\n",
        "music_df['expiration_date_year'] = music_df['expiration_date'].dt.year\n",
        "music_df['expiration_date_month'] = music_df['expiration_date'].dt.month\n",
        "music_df['expiration_date_day'] = music_df['expiration_date'].dt.day\n"
      ],
      "execution_count": 29,
      "outputs": []
    },
    {
      "cell_type": "code",
      "metadata": {
        "id": "VzOF7n-GOLOj"
      },
      "source": [
        "#Dates to categoty\n",
        "music_df['registration_init_time'] = music_df['registration_init_time'].astype('category')\n",
        "music_df['expiration_date'] = music_df['expiration_date'].astype('category')"
      ],
      "execution_count": 30,
      "outputs": []
    },
    {
      "cell_type": "code",
      "metadata": {
        "id": "t24hYB7dOOMw"
      },
      "source": [
        "music = music_df.copy()\n"
      ],
      "execution_count": 31,
      "outputs": []
    },
    {
      "cell_type": "code",
      "metadata": {
        "id": "mxEMWd16OWCD"
      },
      "source": [
        "for item in music.columns:\n",
        "    if music[item].dtype == 'object':\n",
        "        music[item] = music[item].astype('category')"
      ],
      "execution_count": 32,
      "outputs": []
    },
    {
      "cell_type": "code",
      "metadata": {
        "id": "pm6rFgkqOZt4"
      },
      "source": [
        "#convert into encoding after categorical data\n",
        "for col in music.select_dtypes(include=['category']).columns:\n",
        "    music[col] = music[col].cat.codes"
      ],
      "execution_count": 34,
      "outputs": []
    },
    {
      "cell_type": "code",
      "metadata": {
        "colab": {
          "base_uri": "https://localhost:8080/",
          "height": 808
        },
        "id": "uZjQ_kxYOe3R",
        "outputId": "22c07a6d-a8f3-490c-a1c2-98f1c49d7fe2"
      },
      "source": [
        "music.corr()"
      ],
      "execution_count": 35,
      "outputs": [
        {
          "output_type": "execute_result",
          "data": {
            "text/html": [
              "<div>\n",
              "<style scoped>\n",
              "    .dataframe tbody tr th:only-of-type {\n",
              "        vertical-align: middle;\n",
              "    }\n",
              "\n",
              "    .dataframe tbody tr th {\n",
              "        vertical-align: top;\n",
              "    }\n",
              "\n",
              "    .dataframe thead th {\n",
              "        text-align: right;\n",
              "    }\n",
              "</style>\n",
              "<table border=\"1\" class=\"dataframe\">\n",
              "  <thead>\n",
              "    <tr style=\"text-align: right;\">\n",
              "      <th></th>\n",
              "      <th>msno</th>\n",
              "      <th>song_id</th>\n",
              "      <th>source_system_tab</th>\n",
              "      <th>source_screen_name</th>\n",
              "      <th>source_type</th>\n",
              "      <th>target</th>\n",
              "      <th>song_length</th>\n",
              "      <th>genre_ids</th>\n",
              "      <th>artist_name</th>\n",
              "      <th>composer</th>\n",
              "      <th>lyricist</th>\n",
              "      <th>language</th>\n",
              "      <th>city</th>\n",
              "      <th>bd</th>\n",
              "      <th>gender</th>\n",
              "      <th>registered_via</th>\n",
              "      <th>registration_init_time</th>\n",
              "      <th>expiration_date</th>\n",
              "      <th>registration_init_time_year</th>\n",
              "      <th>registration_init_time_month</th>\n",
              "      <th>registration_init_time_day</th>\n",
              "      <th>expiration_date_year</th>\n",
              "      <th>expiration_date_month</th>\n",
              "      <th>expiration_date_day</th>\n",
              "    </tr>\n",
              "  </thead>\n",
              "  <tbody>\n",
              "    <tr>\n",
              "      <th>msno</th>\n",
              "      <td>1.000000</td>\n",
              "      <td>-0.001321</td>\n",
              "      <td>0.007785</td>\n",
              "      <td>-0.006363</td>\n",
              "      <td>-0.002754</td>\n",
              "      <td>0.002866</td>\n",
              "      <td>-0.001096</td>\n",
              "      <td>0.008924</td>\n",
              "      <td>0.005740</td>\n",
              "      <td>-0.001853</td>\n",
              "      <td>0.001856</td>\n",
              "      <td>-0.013110</td>\n",
              "      <td>0.009568</td>\n",
              "      <td>-0.001858</td>\n",
              "      <td>-0.003002</td>\n",
              "      <td>0.000915</td>\n",
              "      <td>0.002510</td>\n",
              "      <td>0.016288</td>\n",
              "      <td>0.002006</td>\n",
              "      <td>0.013862</td>\n",
              "      <td>0.007030</td>\n",
              "      <td>0.004078</td>\n",
              "      <td>0.013450</td>\n",
              "      <td>0.002478</td>\n",
              "    </tr>\n",
              "    <tr>\n",
              "      <th>song_id</th>\n",
              "      <td>-0.001321</td>\n",
              "      <td>1.000000</td>\n",
              "      <td>-0.007538</td>\n",
              "      <td>0.000900</td>\n",
              "      <td>0.002039</td>\n",
              "      <td>-0.006446</td>\n",
              "      <td>-0.008641</td>\n",
              "      <td>0.006399</td>\n",
              "      <td>-0.015433</td>\n",
              "      <td>-0.038118</td>\n",
              "      <td>-0.032105</td>\n",
              "      <td>0.010382</td>\n",
              "      <td>-0.004700</td>\n",
              "      <td>0.000741</td>\n",
              "      <td>0.000860</td>\n",
              "      <td>0.003385</td>\n",
              "      <td>0.003901</td>\n",
              "      <td>0.002330</td>\n",
              "      <td>0.004316</td>\n",
              "      <td>-0.008321</td>\n",
              "      <td>0.003238</td>\n",
              "      <td>0.000615</td>\n",
              "      <td>-0.000213</td>\n",
              "      <td>0.002462</td>\n",
              "    </tr>\n",
              "    <tr>\n",
              "      <th>source_system_tab</th>\n",
              "      <td>0.007785</td>\n",
              "      <td>-0.007538</td>\n",
              "      <td>1.000000</td>\n",
              "      <td>-0.047744</td>\n",
              "      <td>-0.085835</td>\n",
              "      <td>0.032416</td>\n",
              "      <td>0.024965</td>\n",
              "      <td>0.037624</td>\n",
              "      <td>0.039012</td>\n",
              "      <td>0.056944</td>\n",
              "      <td>0.034853</td>\n",
              "      <td>-0.049765</td>\n",
              "      <td>0.021276</td>\n",
              "      <td>0.021529</td>\n",
              "      <td>-0.025621</td>\n",
              "      <td>0.034808</td>\n",
              "      <td>-0.043760</td>\n",
              "      <td>0.054080</td>\n",
              "      <td>-0.039292</td>\n",
              "      <td>-0.011708</td>\n",
              "      <td>0.005076</td>\n",
              "      <td>0.037978</td>\n",
              "      <td>0.010489</td>\n",
              "      <td>0.005461</td>\n",
              "    </tr>\n",
              "    <tr>\n",
              "      <th>source_screen_name</th>\n",
              "      <td>-0.006363</td>\n",
              "      <td>0.000900</td>\n",
              "      <td>-0.047744</td>\n",
              "      <td>1.000000</td>\n",
              "      <td>0.415053</td>\n",
              "      <td>-0.059172</td>\n",
              "      <td>0.022718</td>\n",
              "      <td>-0.028812</td>\n",
              "      <td>0.011661</td>\n",
              "      <td>0.024557</td>\n",
              "      <td>0.010486</td>\n",
              "      <td>-0.023501</td>\n",
              "      <td>-0.025175</td>\n",
              "      <td>-0.017411</td>\n",
              "      <td>0.023963</td>\n",
              "      <td>-0.030218</td>\n",
              "      <td>0.043722</td>\n",
              "      <td>-0.035223</td>\n",
              "      <td>0.040891</td>\n",
              "      <td>0.009150</td>\n",
              "      <td>0.002965</td>\n",
              "      <td>-0.022915</td>\n",
              "      <td>-0.007793</td>\n",
              "      <td>0.000443</td>\n",
              "    </tr>\n",
              "    <tr>\n",
              "      <th>source_type</th>\n",
              "      <td>-0.002754</td>\n",
              "      <td>0.002039</td>\n",
              "      <td>-0.085835</td>\n",
              "      <td>0.415053</td>\n",
              "      <td>1.000000</td>\n",
              "      <td>-0.124074</td>\n",
              "      <td>0.013197</td>\n",
              "      <td>-0.064176</td>\n",
              "      <td>-0.021970</td>\n",
              "      <td>-0.001180</td>\n",
              "      <td>-0.015175</td>\n",
              "      <td>0.014876</td>\n",
              "      <td>-0.027022</td>\n",
              "      <td>-0.002897</td>\n",
              "      <td>0.025888</td>\n",
              "      <td>-0.020839</td>\n",
              "      <td>0.038030</td>\n",
              "      <td>-0.044743</td>\n",
              "      <td>0.035198</td>\n",
              "      <td>0.009498</td>\n",
              "      <td>0.004657</td>\n",
              "      <td>-0.037229</td>\n",
              "      <td>0.006750</td>\n",
              "      <td>-0.005716</td>\n",
              "    </tr>\n",
              "    <tr>\n",
              "      <th>target</th>\n",
              "      <td>0.002866</td>\n",
              "      <td>-0.006446</td>\n",
              "      <td>0.032416</td>\n",
              "      <td>-0.059172</td>\n",
              "      <td>-0.124074</td>\n",
              "      <td>1.000000</td>\n",
              "      <td>0.001481</td>\n",
              "      <td>0.014118</td>\n",
              "      <td>0.011944</td>\n",
              "      <td>-0.004880</td>\n",
              "      <td>0.002837</td>\n",
              "      <td>-0.024733</td>\n",
              "      <td>0.012570</td>\n",
              "      <td>0.002102</td>\n",
              "      <td>-0.015014</td>\n",
              "      <td>0.011207</td>\n",
              "      <td>-0.001328</td>\n",
              "      <td>0.059366</td>\n",
              "      <td>-0.000385</td>\n",
              "      <td>-0.005917</td>\n",
              "      <td>-0.011274</td>\n",
              "      <td>0.042943</td>\n",
              "      <td>0.011619</td>\n",
              "      <td>-0.004185</td>\n",
              "    </tr>\n",
              "    <tr>\n",
              "      <th>song_length</th>\n",
              "      <td>-0.001096</td>\n",
              "      <td>-0.008641</td>\n",
              "      <td>0.024965</td>\n",
              "      <td>0.022718</td>\n",
              "      <td>0.013197</td>\n",
              "      <td>0.001481</td>\n",
              "      <td>1.000000</td>\n",
              "      <td>0.031940</td>\n",
              "      <td>0.127019</td>\n",
              "      <td>0.112196</td>\n",
              "      <td>0.094440</td>\n",
              "      <td>-0.226065</td>\n",
              "      <td>-0.001598</td>\n",
              "      <td>0.006334</td>\n",
              "      <td>0.007458</td>\n",
              "      <td>-0.000329</td>\n",
              "      <td>-0.002127</td>\n",
              "      <td>-0.004323</td>\n",
              "      <td>-0.003436</td>\n",
              "      <td>0.006273</td>\n",
              "      <td>0.006232</td>\n",
              "      <td>-0.006071</td>\n",
              "      <td>0.004361</td>\n",
              "      <td>-0.002353</td>\n",
              "    </tr>\n",
              "    <tr>\n",
              "      <th>genre_ids</th>\n",
              "      <td>0.008924</td>\n",
              "      <td>0.006399</td>\n",
              "      <td>0.037624</td>\n",
              "      <td>-0.028812</td>\n",
              "      <td>-0.064176</td>\n",
              "      <td>0.014118</td>\n",
              "      <td>0.031940</td>\n",
              "      <td>1.000000</td>\n",
              "      <td>0.199445</td>\n",
              "      <td>0.148021</td>\n",
              "      <td>0.123759</td>\n",
              "      <td>-0.306689</td>\n",
              "      <td>0.003079</td>\n",
              "      <td>0.009242</td>\n",
              "      <td>-0.011933</td>\n",
              "      <td>0.002826</td>\n",
              "      <td>-0.008854</td>\n",
              "      <td>0.004627</td>\n",
              "      <td>-0.009156</td>\n",
              "      <td>0.000472</td>\n",
              "      <td>-0.001352</td>\n",
              "      <td>0.003277</td>\n",
              "      <td>-0.006909</td>\n",
              "      <td>0.000485</td>\n",
              "    </tr>\n",
              "    <tr>\n",
              "      <th>artist_name</th>\n",
              "      <td>0.005740</td>\n",
              "      <td>-0.015433</td>\n",
              "      <td>0.039012</td>\n",
              "      <td>0.011661</td>\n",
              "      <td>-0.021970</td>\n",
              "      <td>0.011944</td>\n",
              "      <td>0.127019</td>\n",
              "      <td>0.199445</td>\n",
              "      <td>1.000000</td>\n",
              "      <td>0.354051</td>\n",
              "      <td>0.325488</td>\n",
              "      <td>-0.585464</td>\n",
              "      <td>0.012915</td>\n",
              "      <td>0.004915</td>\n",
              "      <td>-0.001076</td>\n",
              "      <td>-0.000908</td>\n",
              "      <td>-0.006415</td>\n",
              "      <td>0.003270</td>\n",
              "      <td>-0.007337</td>\n",
              "      <td>0.007128</td>\n",
              "      <td>0.004100</td>\n",
              "      <td>0.001894</td>\n",
              "      <td>-0.000498</td>\n",
              "      <td>0.000782</td>\n",
              "    </tr>\n",
              "    <tr>\n",
              "      <th>composer</th>\n",
              "      <td>-0.001853</td>\n",
              "      <td>-0.038118</td>\n",
              "      <td>0.056944</td>\n",
              "      <td>0.024557</td>\n",
              "      <td>-0.001180</td>\n",
              "      <td>-0.004880</td>\n",
              "      <td>0.112196</td>\n",
              "      <td>0.148021</td>\n",
              "      <td>0.354051</td>\n",
              "      <td>1.000000</td>\n",
              "      <td>0.641024</td>\n",
              "      <td>-0.392230</td>\n",
              "      <td>0.009193</td>\n",
              "      <td>0.001552</td>\n",
              "      <td>-0.001433</td>\n",
              "      <td>0.002767</td>\n",
              "      <td>-0.001260</td>\n",
              "      <td>0.000522</td>\n",
              "      <td>-0.001976</td>\n",
              "      <td>0.003378</td>\n",
              "      <td>0.002757</td>\n",
              "      <td>-0.000064</td>\n",
              "      <td>0.000598</td>\n",
              "      <td>0.000286</td>\n",
              "    </tr>\n",
              "    <tr>\n",
              "      <th>lyricist</th>\n",
              "      <td>0.001856</td>\n",
              "      <td>-0.032105</td>\n",
              "      <td>0.034853</td>\n",
              "      <td>0.010486</td>\n",
              "      <td>-0.015175</td>\n",
              "      <td>0.002837</td>\n",
              "      <td>0.094440</td>\n",
              "      <td>0.123759</td>\n",
              "      <td>0.325488</td>\n",
              "      <td>0.641024</td>\n",
              "      <td>1.000000</td>\n",
              "      <td>-0.342341</td>\n",
              "      <td>0.010871</td>\n",
              "      <td>-0.000123</td>\n",
              "      <td>-0.011575</td>\n",
              "      <td>0.003369</td>\n",
              "      <td>-0.004575</td>\n",
              "      <td>0.006489</td>\n",
              "      <td>-0.004472</td>\n",
              "      <td>0.001628</td>\n",
              "      <td>0.000893</td>\n",
              "      <td>0.008747</td>\n",
              "      <td>-0.005094</td>\n",
              "      <td>0.000439</td>\n",
              "    </tr>\n",
              "    <tr>\n",
              "      <th>language</th>\n",
              "      <td>-0.013110</td>\n",
              "      <td>0.010382</td>\n",
              "      <td>-0.049765</td>\n",
              "      <td>-0.023501</td>\n",
              "      <td>0.014876</td>\n",
              "      <td>-0.024733</td>\n",
              "      <td>-0.226065</td>\n",
              "      <td>-0.306689</td>\n",
              "      <td>-0.585464</td>\n",
              "      <td>-0.392230</td>\n",
              "      <td>-0.342341</td>\n",
              "      <td>1.000000</td>\n",
              "      <td>-0.015783</td>\n",
              "      <td>-0.007329</td>\n",
              "      <td>0.010780</td>\n",
              "      <td>0.001293</td>\n",
              "      <td>0.009040</td>\n",
              "      <td>-0.000847</td>\n",
              "      <td>0.010254</td>\n",
              "      <td>-0.006195</td>\n",
              "      <td>0.000241</td>\n",
              "      <td>-0.001589</td>\n",
              "      <td>0.005225</td>\n",
              "      <td>0.000671</td>\n",
              "    </tr>\n",
              "    <tr>\n",
              "      <th>city</th>\n",
              "      <td>0.009568</td>\n",
              "      <td>-0.004700</td>\n",
              "      <td>0.021276</td>\n",
              "      <td>-0.025175</td>\n",
              "      <td>-0.027022</td>\n",
              "      <td>0.012570</td>\n",
              "      <td>-0.001598</td>\n",
              "      <td>0.003079</td>\n",
              "      <td>0.012915</td>\n",
              "      <td>0.009193</td>\n",
              "      <td>0.010871</td>\n",
              "      <td>-0.015783</td>\n",
              "      <td>1.000000</td>\n",
              "      <td>0.369917</td>\n",
              "      <td>-0.522797</td>\n",
              "      <td>0.070915</td>\n",
              "      <td>-0.289419</td>\n",
              "      <td>0.183470</td>\n",
              "      <td>-0.282494</td>\n",
              "      <td>-0.034173</td>\n",
              "      <td>0.009553</td>\n",
              "      <td>0.148565</td>\n",
              "      <td>-0.027730</td>\n",
              "      <td>0.001971</td>\n",
              "    </tr>\n",
              "    <tr>\n",
              "      <th>bd</th>\n",
              "      <td>-0.001858</td>\n",
              "      <td>0.000741</td>\n",
              "      <td>0.021529</td>\n",
              "      <td>-0.017411</td>\n",
              "      <td>-0.002897</td>\n",
              "      <td>0.002102</td>\n",
              "      <td>0.006334</td>\n",
              "      <td>0.009242</td>\n",
              "      <td>0.004915</td>\n",
              "      <td>0.001552</td>\n",
              "      <td>-0.000123</td>\n",
              "      <td>-0.007329</td>\n",
              "      <td>0.369917</td>\n",
              "      <td>1.000000</td>\n",
              "      <td>-0.498802</td>\n",
              "      <td>0.091632</td>\n",
              "      <td>-0.300145</td>\n",
              "      <td>0.131963</td>\n",
              "      <td>-0.296641</td>\n",
              "      <td>-0.007065</td>\n",
              "      <td>-0.002271</td>\n",
              "      <td>0.104935</td>\n",
              "      <td>-0.016583</td>\n",
              "      <td>0.027982</td>\n",
              "    </tr>\n",
              "    <tr>\n",
              "      <th>gender</th>\n",
              "      <td>-0.003002</td>\n",
              "      <td>0.000860</td>\n",
              "      <td>-0.025621</td>\n",
              "      <td>0.023963</td>\n",
              "      <td>0.025888</td>\n",
              "      <td>-0.015014</td>\n",
              "      <td>0.007458</td>\n",
              "      <td>-0.011933</td>\n",
              "      <td>-0.001076</td>\n",
              "      <td>-0.001433</td>\n",
              "      <td>-0.011575</td>\n",
              "      <td>0.010780</td>\n",
              "      <td>-0.522797</td>\n",
              "      <td>-0.498802</td>\n",
              "      <td>1.000000</td>\n",
              "      <td>-0.076655</td>\n",
              "      <td>0.364018</td>\n",
              "      <td>-0.166258</td>\n",
              "      <td>0.360101</td>\n",
              "      <td>0.018229</td>\n",
              "      <td>-0.015869</td>\n",
              "      <td>-0.141191</td>\n",
              "      <td>0.047017</td>\n",
              "      <td>-0.013727</td>\n",
              "    </tr>\n",
              "    <tr>\n",
              "      <th>registered_via</th>\n",
              "      <td>0.000915</td>\n",
              "      <td>0.003385</td>\n",
              "      <td>0.034808</td>\n",
              "      <td>-0.030218</td>\n",
              "      <td>-0.020839</td>\n",
              "      <td>0.011207</td>\n",
              "      <td>-0.000329</td>\n",
              "      <td>0.002826</td>\n",
              "      <td>-0.000908</td>\n",
              "      <td>0.002767</td>\n",
              "      <td>0.003369</td>\n",
              "      <td>0.001293</td>\n",
              "      <td>0.070915</td>\n",
              "      <td>0.091632</td>\n",
              "      <td>-0.076655</td>\n",
              "      <td>1.000000</td>\n",
              "      <td>-0.435632</td>\n",
              "      <td>0.169211</td>\n",
              "      <td>-0.440473</td>\n",
              "      <td>-0.023282</td>\n",
              "      <td>0.020383</td>\n",
              "      <td>0.089473</td>\n",
              "      <td>0.065342</td>\n",
              "      <td>0.056205</td>\n",
              "    </tr>\n",
              "    <tr>\n",
              "      <th>registration_init_time</th>\n",
              "      <td>0.002510</td>\n",
              "      <td>0.003901</td>\n",
              "      <td>-0.043760</td>\n",
              "      <td>0.043722</td>\n",
              "      <td>0.038030</td>\n",
              "      <td>-0.001328</td>\n",
              "      <td>-0.002127</td>\n",
              "      <td>-0.008854</td>\n",
              "      <td>-0.006415</td>\n",
              "      <td>-0.001260</td>\n",
              "      <td>-0.004575</td>\n",
              "      <td>0.009040</td>\n",
              "      <td>-0.289419</td>\n",
              "      <td>-0.300145</td>\n",
              "      <td>0.364018</td>\n",
              "      <td>-0.435632</td>\n",
              "      <td>1.000000</td>\n",
              "      <td>-0.196172</td>\n",
              "      <td>0.990608</td>\n",
              "      <td>0.061683</td>\n",
              "      <td>-0.033085</td>\n",
              "      <td>-0.107277</td>\n",
              "      <td>-0.051411</td>\n",
              "      <td>-0.069482</td>\n",
              "    </tr>\n",
              "    <tr>\n",
              "      <th>expiration_date</th>\n",
              "      <td>0.016288</td>\n",
              "      <td>0.002330</td>\n",
              "      <td>0.054080</td>\n",
              "      <td>-0.035223</td>\n",
              "      <td>-0.044743</td>\n",
              "      <td>0.059366</td>\n",
              "      <td>-0.004323</td>\n",
              "      <td>0.004627</td>\n",
              "      <td>0.003270</td>\n",
              "      <td>0.000522</td>\n",
              "      <td>0.006489</td>\n",
              "      <td>-0.000847</td>\n",
              "      <td>0.183470</td>\n",
              "      <td>0.131963</td>\n",
              "      <td>-0.166258</td>\n",
              "      <td>0.169211</td>\n",
              "      <td>-0.196172</td>\n",
              "      <td>1.000000</td>\n",
              "      <td>-0.185374</td>\n",
              "      <td>-0.023275</td>\n",
              "      <td>-0.004911</td>\n",
              "      <td>0.774477</td>\n",
              "      <td>0.056680</td>\n",
              "      <td>0.019022</td>\n",
              "    </tr>\n",
              "    <tr>\n",
              "      <th>registration_init_time_year</th>\n",
              "      <td>0.002006</td>\n",
              "      <td>0.004316</td>\n",
              "      <td>-0.039292</td>\n",
              "      <td>0.040891</td>\n",
              "      <td>0.035198</td>\n",
              "      <td>-0.000385</td>\n",
              "      <td>-0.003436</td>\n",
              "      <td>-0.009156</td>\n",
              "      <td>-0.007337</td>\n",
              "      <td>-0.001976</td>\n",
              "      <td>-0.004472</td>\n",
              "      <td>0.010254</td>\n",
              "      <td>-0.282494</td>\n",
              "      <td>-0.296641</td>\n",
              "      <td>0.360101</td>\n",
              "      <td>-0.440473</td>\n",
              "      <td>0.990608</td>\n",
              "      <td>-0.185374</td>\n",
              "      <td>1.000000</td>\n",
              "      <td>-0.043109</td>\n",
              "      <td>-0.045852</td>\n",
              "      <td>-0.096251</td>\n",
              "      <td>-0.055794</td>\n",
              "      <td>-0.073314</td>\n",
              "    </tr>\n",
              "    <tr>\n",
              "      <th>registration_init_time_month</th>\n",
              "      <td>0.013862</td>\n",
              "      <td>-0.008321</td>\n",
              "      <td>-0.011708</td>\n",
              "      <td>0.009150</td>\n",
              "      <td>0.009498</td>\n",
              "      <td>-0.005917</td>\n",
              "      <td>0.006273</td>\n",
              "      <td>0.000472</td>\n",
              "      <td>0.007128</td>\n",
              "      <td>0.003378</td>\n",
              "      <td>0.001628</td>\n",
              "      <td>-0.006195</td>\n",
              "      <td>-0.034173</td>\n",
              "      <td>-0.007065</td>\n",
              "      <td>0.018229</td>\n",
              "      <td>-0.023282</td>\n",
              "      <td>0.061683</td>\n",
              "      <td>-0.023275</td>\n",
              "      <td>-0.043109</td>\n",
              "      <td>1.000000</td>\n",
              "      <td>0.038272</td>\n",
              "      <td>-0.048451</td>\n",
              "      <td>0.061182</td>\n",
              "      <td>-0.007663</td>\n",
              "    </tr>\n",
              "    <tr>\n",
              "      <th>registration_init_time_day</th>\n",
              "      <td>0.007030</td>\n",
              "      <td>0.003238</td>\n",
              "      <td>0.005076</td>\n",
              "      <td>0.002965</td>\n",
              "      <td>0.004657</td>\n",
              "      <td>-0.011274</td>\n",
              "      <td>0.006232</td>\n",
              "      <td>-0.001352</td>\n",
              "      <td>0.004100</td>\n",
              "      <td>0.002757</td>\n",
              "      <td>0.000893</td>\n",
              "      <td>0.000241</td>\n",
              "      <td>0.009553</td>\n",
              "      <td>-0.002271</td>\n",
              "      <td>-0.015869</td>\n",
              "      <td>0.020383</td>\n",
              "      <td>-0.033085</td>\n",
              "      <td>-0.004911</td>\n",
              "      <td>-0.045852</td>\n",
              "      <td>0.038272</td>\n",
              "      <td>1.000000</td>\n",
              "      <td>-0.005225</td>\n",
              "      <td>-0.014547</td>\n",
              "      <td>0.148915</td>\n",
              "    </tr>\n",
              "    <tr>\n",
              "      <th>expiration_date_year</th>\n",
              "      <td>0.004078</td>\n",
              "      <td>0.000615</td>\n",
              "      <td>0.037978</td>\n",
              "      <td>-0.022915</td>\n",
              "      <td>-0.037229</td>\n",
              "      <td>0.042943</td>\n",
              "      <td>-0.006071</td>\n",
              "      <td>0.003277</td>\n",
              "      <td>0.001894</td>\n",
              "      <td>-0.000064</td>\n",
              "      <td>0.008747</td>\n",
              "      <td>-0.001589</td>\n",
              "      <td>0.148565</td>\n",
              "      <td>0.104935</td>\n",
              "      <td>-0.141191</td>\n",
              "      <td>0.089473</td>\n",
              "      <td>-0.107277</td>\n",
              "      <td>0.774477</td>\n",
              "      <td>-0.096251</td>\n",
              "      <td>-0.048451</td>\n",
              "      <td>-0.005225</td>\n",
              "      <td>1.000000</td>\n",
              "      <td>-0.463832</td>\n",
              "      <td>-0.030447</td>\n",
              "    </tr>\n",
              "    <tr>\n",
              "      <th>expiration_date_month</th>\n",
              "      <td>0.013450</td>\n",
              "      <td>-0.000213</td>\n",
              "      <td>0.010489</td>\n",
              "      <td>-0.007793</td>\n",
              "      <td>0.006750</td>\n",
              "      <td>0.011619</td>\n",
              "      <td>0.004361</td>\n",
              "      <td>-0.006909</td>\n",
              "      <td>-0.000498</td>\n",
              "      <td>0.000598</td>\n",
              "      <td>-0.005094</td>\n",
              "      <td>0.005225</td>\n",
              "      <td>-0.027730</td>\n",
              "      <td>-0.016583</td>\n",
              "      <td>0.047017</td>\n",
              "      <td>0.065342</td>\n",
              "      <td>-0.051411</td>\n",
              "      <td>0.056680</td>\n",
              "      <td>-0.055794</td>\n",
              "      <td>0.061182</td>\n",
              "      <td>-0.014547</td>\n",
              "      <td>-0.463832</td>\n",
              "      <td>1.000000</td>\n",
              "      <td>-0.031140</td>\n",
              "    </tr>\n",
              "    <tr>\n",
              "      <th>expiration_date_day</th>\n",
              "      <td>0.002478</td>\n",
              "      <td>0.002462</td>\n",
              "      <td>0.005461</td>\n",
              "      <td>0.000443</td>\n",
              "      <td>-0.005716</td>\n",
              "      <td>-0.004185</td>\n",
              "      <td>-0.002353</td>\n",
              "      <td>0.000485</td>\n",
              "      <td>0.000782</td>\n",
              "      <td>0.000286</td>\n",
              "      <td>0.000439</td>\n",
              "      <td>0.000671</td>\n",
              "      <td>0.001971</td>\n",
              "      <td>0.027982</td>\n",
              "      <td>-0.013727</td>\n",
              "      <td>0.056205</td>\n",
              "      <td>-0.069482</td>\n",
              "      <td>0.019022</td>\n",
              "      <td>-0.073314</td>\n",
              "      <td>-0.007663</td>\n",
              "      <td>0.148915</td>\n",
              "      <td>-0.030447</td>\n",
              "      <td>-0.031140</td>\n",
              "      <td>1.000000</td>\n",
              "    </tr>\n",
              "  </tbody>\n",
              "</table>\n",
              "</div>"
            ],
            "text/plain": [
              "                                  msno  ...  expiration_date_day\n",
              "msno                          1.000000  ...             0.002478\n",
              "song_id                      -0.001321  ...             0.002462\n",
              "source_system_tab             0.007785  ...             0.005461\n",
              "source_screen_name           -0.006363  ...             0.000443\n",
              "source_type                  -0.002754  ...            -0.005716\n",
              "target                        0.002866  ...            -0.004185\n",
              "song_length                  -0.001096  ...            -0.002353\n",
              "genre_ids                     0.008924  ...             0.000485\n",
              "artist_name                   0.005740  ...             0.000782\n",
              "composer                     -0.001853  ...             0.000286\n",
              "lyricist                      0.001856  ...             0.000439\n",
              "language                     -0.013110  ...             0.000671\n",
              "city                          0.009568  ...             0.001971\n",
              "bd                           -0.001858  ...             0.027982\n",
              "gender                       -0.003002  ...            -0.013727\n",
              "registered_via                0.000915  ...             0.056205\n",
              "registration_init_time        0.002510  ...            -0.069482\n",
              "expiration_date               0.016288  ...             0.019022\n",
              "registration_init_time_year   0.002006  ...            -0.073314\n",
              "registration_init_time_month  0.013862  ...            -0.007663\n",
              "registration_init_time_day    0.007030  ...             0.148915\n",
              "expiration_date_year          0.004078  ...            -0.030447\n",
              "expiration_date_month         0.013450  ...            -0.031140\n",
              "expiration_date_day           0.002478  ...             1.000000\n",
              "\n",
              "[24 rows x 24 columns]"
            ]
          },
          "metadata": {},
          "execution_count": 35
        }
      ]
    },
    {
      "cell_type": "code",
      "metadata": {
        "colab": {
          "base_uri": "https://localhost:8080/",
          "height": 639
        },
        "id": "AJT5uP_1On87",
        "outputId": "d3634cc9-6b7b-4525-8c9a-781db634ff3b"
      },
      "source": [
        "#Generating heatmap for correlation ploy\n",
        "plt.figure(figsize=[15,8])\n",
        "sns.heatmap(music.corr(),cmap='RdYlGn', linewidths=0.4)\n",
        "plt.show()\n"
      ],
      "execution_count": 36,
      "outputs": [
        {
          "output_type": "display_data",
          "data": {
            "image/png": "[encoded data removed]",
            "text/plain": [
              "<Figure size 1080x576 with 2 Axes>"
            ]
          },
          "metadata": {}
        }
      ]
    },
    {
      "cell_type": "markdown",
      "metadata": {
        "id": "HgLIe_FSOyHJ"
      },
      "source": [
        "### Modelling and Predicting\n"
      ]
    },
    {
      "cell_type": "markdown",
      "metadata": {
        "id": "gtzz3GcDO2P1"
      },
      "source": [
        "\n",
        "#### Model with the best estimator\n"
      ]
    },
    {
      "cell_type": "code",
      "metadata": {
        "colab": {
          "base_uri": "https://localhost:8080/"
        },
        "id": "Yt4pSIyJOtUl",
        "outputId": "c6ca57da-fbf5-46f3-c082-956b34c3753c"
      },
      "source": [
        "model = ensemble.RandomForestClassifier(n_estimators=250, max_depth=25)\n",
        "model.fit(music[music.columns[music.columns != 'target']], music.target)"
      ],
      "execution_count": 37,
      "outputs": [
        {
          "output_type": "execute_result",
          "data": {
            "text/plain": [
              "RandomForestClassifier(bootstrap=True, ccp_alpha=0.0, class_weight=None,\n",
              "                       criterion='gini', max_depth=25, max_features='auto',\n",
              "                       max_leaf_nodes=None, max_samples=None,\n",
              "                       min_impurity_decrease=0.0, min_impurity_split=None,\n",
              "                       min_samples_leaf=1, min_samples_split=2,\n",
              "                       min_weight_fraction_leaf=0.0, n_estimators=250,\n",
              "                       n_jobs=None, oob_score=False, random_state=None,\n",
              "                       verbose=0, warm_start=False)"
            ]
          },
          "metadata": {},
          "execution_count": 37
        }
      ]
    },
    {
      "cell_type": "code",
      "metadata": {
        "id": "-HxxjXZlO70p"
      },
      "source": [
        "music_plot = pd.DataFrame({'features': music.columns[music.columns != 'target'],'importances': model.feature_importances_})\n",
        "music_plot = music_plot.sort_values('importances', ascending=False)"
      ],
      "execution_count": 38,
      "outputs": []
    },
    {
      "cell_type": "code",
      "metadata": {
        "colab": {
          "base_uri": "https://localhost:8080/",
          "height": 355
        },
        "id": "-RBYYUVqPAvB",
        "outputId": "732f2573-1eb9-4376-cfe4-f9559e100336"
      },
      "source": [
        "#plotting the importance of features\n",
        "plt.figure(figsize=[11,5])\n",
        "sns.barplot(x = music_plot.importances, y = music_plot.features)\n",
        "plt.title('Importances of Features Plot')\n",
        "plt.show()"
      ],
      "execution_count": 39,
      "outputs": [
        {
          "output_type": "display_data",
          "data": {
            "image/png": "[encoded data removed]",
            "text/plain": [
              "<Figure size 792x360 with 1 Axes>"
            ]
          },
          "metadata": {}
        }
      ]
    },
    {
      "cell_type": "code",
      "metadata": {
        "colab": {
          "base_uri": "https://localhost:8080/"
        },
        "id": "OGNIc6dyPDjx",
        "outputId": "621d73c1-c6db-459f-915e-1d5fbacc091f"
      },
      "source": [
        "model.feature_importances_"
      ],
      "execution_count": 40,
      "outputs": [
        {
          "output_type": "execute_result",
          "data": {
            "text/plain": [
              "array([0.07257528, 0.07468922, 0.02944877, 0.04212507, 0.04795332,\n",
              "       0.07595606, 0.03131751, 0.0674349 , 0.06110787, 0.04796826,\n",
              "       0.01614488, 0.03127264, 0.03823101, 0.01374157, 0.01674322,\n",
              "       0.06767638, 0.06143719, 0.02805641, 0.0398166 , 0.05485534,\n",
              "       0.00624201, 0.02478194, 0.05042456])"
            ]
          },
          "metadata": {},
          "execution_count": 40
        }
      ]
    },
    {
      "cell_type": "code",
      "metadata": {
        "id": "XuRkegTwPPKn"
      },
      "source": [
        "music = music.drop(music_plot.features[music_plot.importances < 0.04].tolist(),1)"
      ],
      "execution_count": 41,
      "outputs": []
    },
    {
      "cell_type": "code",
      "metadata": {
        "colab": {
          "base_uri": "https://localhost:8080/"
        },
        "id": "N4vzDPtkPWNe",
        "outputId": "5edb7f06-f95d-4850-9c72-3507920cb94f"
      },
      "source": [
        "music.columns.to_list()"
      ],
      "execution_count": 42,
      "outputs": [
        {
          "output_type": "execute_result",
          "data": {
            "text/plain": [
              "['msno',\n",
              " 'song_id',\n",
              " 'source_screen_name',\n",
              " 'source_type',\n",
              " 'target',\n",
              " 'song_length',\n",
              " 'artist_name',\n",
              " 'composer',\n",
              " 'lyricist',\n",
              " 'registration_init_time',\n",
              " 'expiration_date',\n",
              " 'registration_init_time_day',\n",
              " 'expiration_date_day']"
            ]
          },
          "metadata": {},
          "execution_count": 42
        }
      ]
    },
    {
      "cell_type": "code",
      "metadata": {
        "id": "GlV0R76HPX1n"
      },
      "source": [
        "target = music.pop('target')"
      ],
      "execution_count": 43,
      "outputs": []
    },
    {
      "cell_type": "code",
      "metadata": {
        "colab": {
          "base_uri": "https://localhost:8080/"
        },
        "id": "-9Oei3Y9PkqP",
        "outputId": "a81db006-4879-4e59-ad10-85455dc74824"
      },
      "source": [
        "#training and splitting then using xgb boost\n",
        "\n",
        "X_train, X_test, y_train, y_test = train_test_split(music, target, test_size = 0.25)\n",
        "model = xgb.XGBClassifier(learning_rate=0.1, max_depth=15, min_child_weight=5, n_estimators=250)\n",
        "model.fit(X_train, y_train)"
      ],
      "execution_count": 44,
      "outputs": [
        {
          "output_type": "execute_result",
          "data": {
            "text/plain": [
              "XGBClassifier(base_score=0.5, booster='gbtree', colsample_bylevel=1,\n",
              "              colsample_bynode=1, colsample_bytree=1, gamma=0,\n",
              "              learning_rate=0.1, max_delta_step=0, max_depth=15,\n",
              "              min_child_weight=5, missing=None, n_estimators=250, n_jobs=1,\n",
              "              nthread=None, objective='binary:logistic', random_state=0,\n",
              "              reg_alpha=0, reg_lambda=1, scale_pos_weight=1, seed=None,\n",
              "              silent=None, subsample=1, verbosity=1)"
            ]
          },
          "metadata": {},
          "execution_count": 44
        }
      ]
    },
    {
      "cell_type": "code",
      "metadata": {
        "colab": {
          "base_uri": "https://localhost:8080/"
        },
        "id": "yL4itAzAPoJD",
        "outputId": "c309e0d4-34e3-46bc-fd84-9affc0a814f3"
      },
      "source": [
        "predict_labels = model.predict(X_test)\n",
        "print(metrics.classification_report(y_test, predict_labels))"
      ],
      "execution_count": 45,
      "outputs": [
        {
          "output_type": "stream",
          "name": "stdout",
          "text": [
            "              precision    recall  f1-score   support\n",
            "\n",
            "           0       0.62      0.59      0.61      9061\n",
            "           1       0.63      0.66      0.64      9383\n",
            "\n",
            "    accuracy                           0.62     18444\n",
            "   macro avg       0.62      0.62      0.62     18444\n",
            "weighted avg       0.62      0.62      0.62     18444\n",
            "\n"
          ]
        }
      ]
    },
    {
      "cell_type": "code",
      "metadata": {
        "colab": {
          "base_uri": "https://localhost:8080/"
        },
        "id": "3lQs3t_jP89l",
        "outputId": "7bfd8d48-3b41-4b04-a7fd-a8688ce72e00"
      },
      "source": [
        "print(metrics.accuracy_score(y_test, predict_labels))"
      ],
      "execution_count": 46,
      "outputs": [
        {
          "output_type": "stream",
          "name": "stdout",
          "text": [
            "0.6249728909130341\n"
          ]
        }
      ]
    }
  ]
}